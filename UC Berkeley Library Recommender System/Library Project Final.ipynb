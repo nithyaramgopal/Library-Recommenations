{
 "cells": [
  {
   "cell_type": "markdown",
   "metadata": {},
   "source": [
    "## Library Project Final Demo\n",
    "### BY: Nithya,Srikar, Nick\n",
    "\n",
    "We built an information retrieval system around study spaces and libraries with more personalized recommendations and filters based on usage patterns. We have organized hourly library activity information and descriptions of libraries as resources to meet this goal. Resource descriptions of time of day and attributes & categories of the libraries themselves have been organized to meet this goal.\n",
    "\n",
    "We answer questions like the following:\n",
    "\n",
    "**What's the best time for me to visit the library?**\n",
    "\n",
    "We wish to return ranked recommendations that suggest times and alternatives based on preferences. E.g., ‘I wish for a quieter study time in the evening’ would return best the timings to visit; **\n",
    "\n"
   ]
  },
  {
   "cell_type": "code",
   "execution_count": 1,
   "metadata": {},
   "outputs": [],
   "source": [
    "#import required functions\n",
    "import numpy as np\n",
    "import pandas as pd\n",
    "from matplotlib import pyplot as plt\n",
    "import math\n",
    "import datetime\n",
    "from datetime import date\n",
    "from datetime import date"
   ]
  },
  {
   "cell_type": "code",
   "execution_count": 2,
   "metadata": {},
   "outputs": [],
   "source": [
    "#read the data\n",
    "df = pd.read_csv('HourlyTraffic_Compiled_v3.csv')"
   ]
  },
  {
   "cell_type": "code",
   "execution_count": 3,
   "metadata": {},
   "outputs": [
    {
     "data": {
      "text/plain": [
       "array([44, 45, 46, 47, 48], dtype=int64)"
      ]
     },
     "execution_count": 3,
     "metadata": {},
     "output_type": "execute_result"
    }
   ],
   "source": [
    "df[(df.year == 2017) & (df.month == 11) & (df.building == 'MOFF')].week_num.unique()"
   ]
  },
  {
   "cell_type": "code",
   "execution_count": 4,
   "metadata": {},
   "outputs": [
    {
     "data": {
      "text/html": [
       "<div>\n",
       "<style scoped>\n",
       "    .dataframe tbody tr th:only-of-type {\n",
       "        vertical-align: middle;\n",
       "    }\n",
       "\n",
       "    .dataframe tbody tr th {\n",
       "        vertical-align: top;\n",
       "    }\n",
       "\n",
       "    .dataframe thead th {\n",
       "        text-align: right;\n",
       "    }\n",
       "</style>\n",
       "<table border=\"1\" class=\"dataframe\">\n",
       "  <thead>\n",
       "    <tr style=\"text-align: right;\">\n",
       "      <th></th>\n",
       "      <th>date</th>\n",
       "      <th>region</th>\n",
       "      <th>facility</th>\n",
       "      <th>entrance</th>\n",
       "      <th>entries</th>\n",
       "      <th>exits</th>\n",
       "      <th>filename</th>\n",
       "      <th>hourly_change</th>\n",
       "      <th>weekday_num</th>\n",
       "      <th>weekday</th>\n",
       "      <th>hour</th>\n",
       "      <th>day</th>\n",
       "      <th>month</th>\n",
       "      <th>week_num</th>\n",
       "      <th>year</th>\n",
       "      <th>building</th>\n",
       "      <th>full_name</th>\n",
       "      <th>num_present</th>\n",
       "      <th>cumsum_entries</th>\n",
       "    </tr>\n",
       "  </thead>\n",
       "  <tbody>\n",
       "    <tr>\n",
       "      <th>0</th>\n",
       "      <td>2018-07-27 00:00:00</td>\n",
       "      <td>UC Berkeley</td>\n",
       "      <td>AHC Library</td>\n",
       "      <td>AHC Back</td>\n",
       "      <td>0</td>\n",
       "      <td>0</td>\n",
       "      <td>HourlyTraffic-2018-07-27.xlsm</td>\n",
       "      <td>0</td>\n",
       "      <td>4</td>\n",
       "      <td>Friday</td>\n",
       "      <td>0</td>\n",
       "      <td>27</td>\n",
       "      <td>7</td>\n",
       "      <td>30</td>\n",
       "      <td>2018</td>\n",
       "      <td>AHC</td>\n",
       "      <td>Art History/Classics Library</td>\n",
       "      <td>0</td>\n",
       "      <td>0</td>\n",
       "    </tr>\n",
       "    <tr>\n",
       "      <th>1</th>\n",
       "      <td>2018-07-27 01:00:00</td>\n",
       "      <td>UC Berkeley</td>\n",
       "      <td>AHC Library</td>\n",
       "      <td>AHC Back</td>\n",
       "      <td>0</td>\n",
       "      <td>0</td>\n",
       "      <td>HourlyTraffic-2018-07-27.xlsm</td>\n",
       "      <td>0</td>\n",
       "      <td>4</td>\n",
       "      <td>Friday</td>\n",
       "      <td>1</td>\n",
       "      <td>27</td>\n",
       "      <td>7</td>\n",
       "      <td>30</td>\n",
       "      <td>2018</td>\n",
       "      <td>AHC</td>\n",
       "      <td>Art History/Classics Library</td>\n",
       "      <td>0</td>\n",
       "      <td>0</td>\n",
       "    </tr>\n",
       "    <tr>\n",
       "      <th>2</th>\n",
       "      <td>2018-07-27 02:00:00</td>\n",
       "      <td>UC Berkeley</td>\n",
       "      <td>AHC Library</td>\n",
       "      <td>AHC Back</td>\n",
       "      <td>0</td>\n",
       "      <td>0</td>\n",
       "      <td>HourlyTraffic-2018-07-27.xlsm</td>\n",
       "      <td>0</td>\n",
       "      <td>4</td>\n",
       "      <td>Friday</td>\n",
       "      <td>2</td>\n",
       "      <td>27</td>\n",
       "      <td>7</td>\n",
       "      <td>30</td>\n",
       "      <td>2018</td>\n",
       "      <td>AHC</td>\n",
       "      <td>Art History/Classics Library</td>\n",
       "      <td>0</td>\n",
       "      <td>0</td>\n",
       "    </tr>\n",
       "    <tr>\n",
       "      <th>3</th>\n",
       "      <td>2018-07-27 03:00:00</td>\n",
       "      <td>UC Berkeley</td>\n",
       "      <td>AHC Library</td>\n",
       "      <td>AHC Back</td>\n",
       "      <td>0</td>\n",
       "      <td>0</td>\n",
       "      <td>HourlyTraffic-2018-07-27.xlsm</td>\n",
       "      <td>0</td>\n",
       "      <td>4</td>\n",
       "      <td>Friday</td>\n",
       "      <td>3</td>\n",
       "      <td>27</td>\n",
       "      <td>7</td>\n",
       "      <td>30</td>\n",
       "      <td>2018</td>\n",
       "      <td>AHC</td>\n",
       "      <td>Art History/Classics Library</td>\n",
       "      <td>-1</td>\n",
       "      <td>2</td>\n",
       "    </tr>\n",
       "    <tr>\n",
       "      <th>4</th>\n",
       "      <td>2018-07-27 04:00:00</td>\n",
       "      <td>UC Berkeley</td>\n",
       "      <td>AHC Library</td>\n",
       "      <td>AHC Back</td>\n",
       "      <td>0</td>\n",
       "      <td>0</td>\n",
       "      <td>HourlyTraffic-2018-07-27.xlsm</td>\n",
       "      <td>0</td>\n",
       "      <td>4</td>\n",
       "      <td>Friday</td>\n",
       "      <td>4</td>\n",
       "      <td>27</td>\n",
       "      <td>7</td>\n",
       "      <td>30</td>\n",
       "      <td>2018</td>\n",
       "      <td>AHC</td>\n",
       "      <td>Art History/Classics Library</td>\n",
       "      <td>0</td>\n",
       "      <td>0</td>\n",
       "    </tr>\n",
       "  </tbody>\n",
       "</table>\n",
       "</div>"
      ],
      "text/plain": [
       "                  date       region     facility  entrance  entries  exits  \\\n",
       "0  2018-07-27 00:00:00  UC Berkeley  AHC Library  AHC Back        0      0   \n",
       "1  2018-07-27 01:00:00  UC Berkeley  AHC Library  AHC Back        0      0   \n",
       "2  2018-07-27 02:00:00  UC Berkeley  AHC Library  AHC Back        0      0   \n",
       "3  2018-07-27 03:00:00  UC Berkeley  AHC Library  AHC Back        0      0   \n",
       "4  2018-07-27 04:00:00  UC Berkeley  AHC Library  AHC Back        0      0   \n",
       "\n",
       "                        filename  hourly_change  weekday_num weekday  hour  \\\n",
       "0  HourlyTraffic-2018-07-27.xlsm              0            4  Friday     0   \n",
       "1  HourlyTraffic-2018-07-27.xlsm              0            4  Friday     1   \n",
       "2  HourlyTraffic-2018-07-27.xlsm              0            4  Friday     2   \n",
       "3  HourlyTraffic-2018-07-27.xlsm              0            4  Friday     3   \n",
       "4  HourlyTraffic-2018-07-27.xlsm              0            4  Friday     4   \n",
       "\n",
       "   day  month  week_num  year building                     full_name  \\\n",
       "0   27      7        30  2018      AHC  Art History/Classics Library   \n",
       "1   27      7        30  2018      AHC  Art History/Classics Library   \n",
       "2   27      7        30  2018      AHC  Art History/Classics Library   \n",
       "3   27      7        30  2018      AHC  Art History/Classics Library   \n",
       "4   27      7        30  2018      AHC  Art History/Classics Library   \n",
       "\n",
       "   num_present  cumsum_entries  \n",
       "0            0               0  \n",
       "1            0               0  \n",
       "2            0               0  \n",
       "3           -1               2  \n",
       "4            0               0  "
      ]
     },
     "execution_count": 4,
     "metadata": {},
     "output_type": "execute_result"
    }
   ],
   "source": [
    "df.head()"
   ]
  },
  {
   "cell_type": "code",
   "execution_count": 5,
   "metadata": {},
   "outputs": [
    {
     "data": {
      "text/plain": [
       "array(['20187', '20188', '20189', '201810', '20177', '20178', '20179',\n",
       "       '201710', '201711', '201712', '20181', '20182', '20183', '20184',\n",
       "       '20185', '20186'], dtype=object)"
      ]
     },
     "execution_count": 5,
     "metadata": {},
     "output_type": "execute_result"
    }
   ],
   "source": [
    "df['year_month'] = (df.year.astype(str) + df.month.astype(str))\n",
    "df.year_month.unique()"
   ]
  },
  {
   "cell_type": "code",
   "execution_count": 6,
   "metadata": {},
   "outputs": [],
   "source": [
    "#get a table with all libraries and features\n",
    "lib_features = pd.read_excel('Library Features.xlsx')"
   ]
  },
  {
   "cell_type": "code",
   "execution_count": 7,
   "metadata": {},
   "outputs": [
    {
     "data": {
      "text/html": [
       "<div>\n",
       "<style scoped>\n",
       "    .dataframe tbody tr th:only-of-type {\n",
       "        vertical-align: middle;\n",
       "    }\n",
       "\n",
       "    .dataframe tbody tr th {\n",
       "        vertical-align: top;\n",
       "    }\n",
       "\n",
       "    .dataframe thead th {\n",
       "        text-align: right;\n",
       "    }\n",
       "</style>\n",
       "<table border=\"1\" class=\"dataframe\">\n",
       "  <thead>\n",
       "    <tr style=\"text-align: right;\">\n",
       "      <th></th>\n",
       "      <th>Building</th>\n",
       "      <th>Facility</th>\n",
       "      <th>open_weekends</th>\n",
       "      <th>open_late</th>\n",
       "      <th>quiet_study</th>\n",
       "      <th>group_study</th>\n",
       "      <th>reservable rooms</th>\n",
       "      <th>food_allowed</th>\n",
       "      <th>address</th>\n",
       "      <th>gps_lat</th>\n",
       "      <th>gps_long</th>\n",
       "      <th>open</th>\n",
       "      <th>close</th>\n",
       "      <th>notes</th>\n",
       "    </tr>\n",
       "  </thead>\n",
       "  <tbody>\n",
       "    <tr>\n",
       "      <th>0</th>\n",
       "      <td>AHC</td>\n",
       "      <td>AHC Library</td>\n",
       "      <td>1</td>\n",
       "      <td>0</td>\n",
       "      <td>1</td>\n",
       "      <td>1</td>\n",
       "      <td>0</td>\n",
       "      <td>0</td>\n",
       "      <td>Art History/Classics Library\\n308 Doe Library\\...</td>\n",
       "      <td>37.872249</td>\n",
       "      <td>-122.259433</td>\n",
       "      <td>9</td>\n",
       "      <td>21</td>\n",
       "      <td>part of DOE</td>\n",
       "    </tr>\n",
       "    <tr>\n",
       "      <th>1</th>\n",
       "      <td>ANTH</td>\n",
       "      <td>ANTH Library</td>\n",
       "      <td>0</td>\n",
       "      <td>0</td>\n",
       "      <td>1</td>\n",
       "      <td>0</td>\n",
       "      <td>0</td>\n",
       "      <td>1</td>\n",
       "      <td>The George and Mary Foster Anthropology Librar...</td>\n",
       "      <td>37.869843</td>\n",
       "      <td>-122.255285</td>\n",
       "      <td>9</td>\n",
       "      <td>20</td>\n",
       "      <td>NaN</td>\n",
       "    </tr>\n",
       "    <tr>\n",
       "      <th>2</th>\n",
       "      <td>DOE</td>\n",
       "      <td>BANC Library</td>\n",
       "      <td>1</td>\n",
       "      <td>0</td>\n",
       "      <td>1</td>\n",
       "      <td>1</td>\n",
       "      <td>0</td>\n",
       "      <td>1</td>\n",
       "      <td>Charles Franklin Doe Memorial Library\\nUnivers...</td>\n",
       "      <td>37.872183</td>\n",
       "      <td>-122.259593</td>\n",
       "      <td>10</td>\n",
       "      <td>17</td>\n",
       "      <td>NaN</td>\n",
       "    </tr>\n",
       "    <tr>\n",
       "      <th>3</th>\n",
       "      <td>DOE</td>\n",
       "      <td>Main Stacks</td>\n",
       "      <td>1</td>\n",
       "      <td>0</td>\n",
       "      <td>1</td>\n",
       "      <td>1</td>\n",
       "      <td>0</td>\n",
       "      <td>1</td>\n",
       "      <td>198 Main (Gardner) Stacks\\nUniversity of Calif...</td>\n",
       "      <td>40.741895</td>\n",
       "      <td>-73.989308</td>\n",
       "      <td>0</td>\n",
       "      <td>24</td>\n",
       "      <td>NaN</td>\n",
       "    </tr>\n",
       "    <tr>\n",
       "      <th>4</th>\n",
       "      <td>VLSB</td>\n",
       "      <td>BIOS Library</td>\n",
       "      <td>1</td>\n",
       "      <td>0</td>\n",
       "      <td>1</td>\n",
       "      <td>1</td>\n",
       "      <td>0</td>\n",
       "      <td>0</td>\n",
       "      <td>Marian Koshland Bioscience, Natural Resources ...</td>\n",
       "      <td>37.871490</td>\n",
       "      <td>-122.262141</td>\n",
       "      <td>9</td>\n",
       "      <td>22</td>\n",
       "      <td>NaN</td>\n",
       "    </tr>\n",
       "  </tbody>\n",
       "</table>\n",
       "</div>"
      ],
      "text/plain": [
       "  Building      Facility  open_weekends  open_late  quiet_study  group_study  \\\n",
       "0      AHC   AHC Library              1          0            1            1   \n",
       "1     ANTH  ANTH Library              0          0            1            0   \n",
       "2      DOE  BANC Library              1          0            1            1   \n",
       "3      DOE   Main Stacks              1          0            1            1   \n",
       "4     VLSB  BIOS Library              1          0            1            1   \n",
       "\n",
       "   reservable rooms  food_allowed  \\\n",
       "0                 0             0   \n",
       "1                 0             1   \n",
       "2                 0             1   \n",
       "3                 0             1   \n",
       "4                 0             0   \n",
       "\n",
       "                                             address    gps_lat    gps_long  \\\n",
       "0  Art History/Classics Library\\n308 Doe Library\\...  37.872249 -122.259433   \n",
       "1  The George and Mary Foster Anthropology Librar...  37.869843 -122.255285   \n",
       "2  Charles Franklin Doe Memorial Library\\nUnivers...  37.872183 -122.259593   \n",
       "3  198 Main (Gardner) Stacks\\nUniversity of Calif...  40.741895  -73.989308   \n",
       "4  Marian Koshland Bioscience, Natural Resources ...  37.871490 -122.262141   \n",
       "\n",
       "   open  close        notes  \n",
       "0     9     21  part of DOE  \n",
       "1     9     20          NaN  \n",
       "2    10     17          NaN  \n",
       "3     0     24          NaN  \n",
       "4     9     22          NaN  "
      ]
     },
     "execution_count": 7,
     "metadata": {},
     "output_type": "execute_result"
    }
   ],
   "source": [
    "lib_features.head()"
   ]
  },
  {
   "cell_type": "code",
   "execution_count": 8,
   "metadata": {},
   "outputs": [],
   "source": [
    "from __future__ import print_function\n",
    "from ipywidgets import interact, interactive, fixed, interact_manual\n",
    "import ipywidgets as widgets"
   ]
  },
  {
   "cell_type": "code",
   "execution_count": 9,
   "metadata": {},
   "outputs": [],
   "source": [
    "#@widgets.interact_manual(\n",
    "#    Purpose=['Group Study','Quiet Study'],Reservable_Rooms = ['Yes','No'] )\n",
    "def get_values(selection):\n",
    "    if selection == 1:\n",
    "        return [1]\n",
    "    else:\n",
    "        return [0,1]"
   ]
  },
  {
   "cell_type": "code",
   "execution_count": 10,
   "metadata": {},
   "outputs": [],
   "source": [
    "#get a list of all buildings\n",
    "lib_list = lib_features.Building.unique().tolist()"
   ]
  },
  {
   "cell_type": "code",
   "execution_count": 11,
   "metadata": {},
   "outputs": [],
   "source": [
    "#get a list of all the times\n",
    "\n",
    "time = ['12AM','1AM','2AM','3AM','4AM','5AM','6AM','7AM','8AM','9AM','10AM','11AM','12PM','1PM','2PM','3PM','4PM','5PM','6PM','7PM','8PM','9PM','10PM','11PM']"
   ]
  },
  {
   "cell_type": "code",
   "execution_count": 12,
   "metadata": {},
   "outputs": [],
   "source": [
    "def lib_recommend(Group_Study, Reservable_Rooms, Quiet_Study):\n",
    "    Reservable_Rooms = get_values(Reservable_Rooms)\n",
    "    Group_Study = get_values(Group_Study)\n",
    "    Quiet_Study = get_values(Quiet_Study)\n",
    "    lib_list = lib_features[(lib_features.group_study.isin(Group_Study)) \n",
    "                           & (lib_features['reservable rooms'].isin(Reservable_Rooms))\n",
    "                           & (lib_features.quiet_study.isin(Quiet_Study))]['Building'].unique()\n",
    "    return lib_list.tolist()"
   ]
  },
  {
   "cell_type": "code",
   "execution_count": 13,
   "metadata": {},
   "outputs": [],
   "source": [
    "group_study_widget = widgets.Checkbox(value=False,description='Group Study',disabled=False)\n",
    "reservable_rooms_widget = widgets.Checkbox(value=False,description='Reservable Rooms',disabled=False)\n",
    "quiet_study_widget = widgets.Checkbox(value=False,description='Quiet Study',disabled=False)\n",
    "lib_list_widget = widgets.SelectMultiple(options=lib_list,description='Suggested Libraries:',disabled=False)\n",
    "date_widget = widgets.DatePicker(description='Pick a Date',value = date.today(),disabled=False)\n",
    "\n",
    "def update(*args):\n",
    "    lib_list_widget.options = lib_recommend(group_study_widget.value,reservable_rooms_widget.value,quiet_study_widget.value)\n",
    "    \n",
    "#update the list of libraries based on the user selection    \n",
    "group_study_widget.observe(update)\n",
    "reservable_rooms_widget.observe(update)\n",
    "quiet_study_widget.observe(update)"
   ]
  },
  {
   "cell_type": "code",
   "execution_count": 14,
   "metadata": {},
   "outputs": [],
   "source": [
    "def lib_random(Group_Study,Reservable_Rooms,Quiet_Study,Lib_List,Date):\n",
    "    \n",
    "    #convert the Lib list parameter to a list\n",
    "    libs = list(lib_list_widget.value)\n",
    "    plt.figure(figsize=(14,8))\n",
    "    #print(Date.weekday())\n",
    "    \n",
    "    #subset the data based on the user selection and get the running total for that day\n",
    "    df_grouped = df[(df.month == Date.month) & (df.day == Date.day) & (df.year == (Date.year-1))].groupby(['building','year','month','day','hour']).sum().groupby(level = [0]).cumsum()\n",
    "    \n",
    "    print('\\033[1m' + 'The libraries closest to you are:')\n",
    "    for i in find_closest_lib(coords_1, lib_features, 3):\n",
    "        print(str(i))\n",
    "    print('\\033[0m')\n",
    "        \n",
    "    #for each library that has been selected plot the grap\n",
    "    for i in libs:\n",
    "        \n",
    "        if(i in df_grouped.index.get_level_values('building').unique()):\n",
    "            traffic = df_grouped.loc[i.rstrip()].hourly_change\n",
    "            traffic = np.where(traffic <0,0,traffic)\n",
    "            plt.plot(time,traffic, label = i)\n",
    "        else:\n",
    "            print('There is no data for the library ' + i)\n",
    "    plt.xlabel('Time')\n",
    "    plt.ylabel('Traffic')\n",
    "    plt.legend()\n",
    "    plt.grid()\n"
   ]
  },
  {
   "cell_type": "code",
   "execution_count": 15,
   "metadata": {},
   "outputs": [],
   "source": [
    "def get_best_libraries(df, period, date):\n",
    "    # hard coded\n",
    "    week_num = int(date.isocalendar()[1])\n",
    "    day = date.strftime('%A')\n",
    "    print(week_num)\n",
    "    print(day)\n",
    "    period_mapping = {\n",
    "                     'morning': {'min': 8 ,'max': 12}, \n",
    "                      'afternoon':{'min': 12 ,'max': 16},\n",
    "                      'evening': {'min': 16 ,'max': 19}, \n",
    "                      'night':{'min': 19 ,'max': 23} # Change this to 24\n",
    "                     }\n",
    "    freq_data_sub = df[(df.week_num == week_num) & (df.year == 2017) & (df.weekday == day)].groupby(['hour', 'building']).sum().groupby(level = [0]).cumsum()\n",
    "    freq_data_sub = freq_data_sub.reset_index()\n",
    "    #print(freq_data_sub)\n",
    "    freq_data_sub = freq_data_sub.loc[(freq_data_sub['hour'] >= period_mapping[period]['min']) & (freq_data_sub['hour'] < period_mapping[period]['max'])]\n",
    "    #freq_data_sub = freq_data_sub.sort_values('hourly_change', ascending = True)\n",
    "    #best_times = freq_data_sub['hour']\n",
    "    #print(freq_data_sub)\n",
    "    lib_best_times = {}\n",
    "    print(np.unique(freq_data_sub['building'].values))\n",
    "    for lib in np.unique(freq_data_sub['building'].values):\n",
    "        lib_data_sub = freq_data_sub.loc[(freq_data_sub['building'] == lib),:]\n",
    "        lib_data_sub = lib_data_sub.sort_values('hourly_change', ascending = True)\n",
    "        lib_best_times[lib] = {'best_times': lib_data_sub['hour'].values}\n",
    "    \n",
    "    \n",
    "    return lib_best_times"
   ]
  },
  {
   "cell_type": "code",
   "execution_count": 16,
   "metadata": {},
   "outputs": [],
   "source": [
    "def get_date(date,lib_codes,period):\n",
    "    print(date)\n",
    "    times = get_best_time(df, lib_codes, period, date)\n",
    "    print(times)"
   ]
  },
  {
   "cell_type": "code",
   "execution_count": 17,
   "metadata": {},
   "outputs": [],
   "source": [
    "coords_1 = (37.8713408,-122.2585)\n",
    "coords_2 = (52.406374, 16.9251681)\n",
    "\n",
    "import math\n",
    "# https://stackoverflow.com/questions/19412462/getting-distance-between-two-points-based-on-latitude-longitude\n",
    "\n",
    "def distance(origin, destination):\n",
    "\n",
    "    lat1, lon1 = origin\n",
    "    lat2, lon2 = destination\n",
    "    radius = 6371  # km\n",
    "\n",
    "    dlat = math.radians(lat2 - lat1)\n",
    "    dlon = math.radians(lon2 - lon1)\n",
    "    a = (math.sin(dlat / 2) * math.sin(dlat / 2) +\n",
    "         math.cos(math.radians(lat1)) * math.cos(math.radians(lat2)) *\n",
    "         math.sin(dlon / 2) * math.sin(dlon / 2))\n",
    "    c = 2 * math.atan2(math.sqrt(a), math.sqrt(1 - a))\n",
    "    d = radius * c\n",
    "\n",
    "    return d\n",
    "distance(coords_1, coords_2)\n",
    "\n",
    "\n",
    "\n",
    "def find_closest_lib(coord, lib_data, k = 1):\n",
    "    distances = []\n",
    "    for i in range(len(lib_data)):\n",
    "        distances.append(distance(coord, (\n",
    "        \n",
    "        lib_data.loc[i, 'gps_lat'], lib_data.loc[i, 'gps_long']\n",
    "        \n",
    "        )))\n",
    "    lib_data_sub = lib_data\n",
    "    lib_data_sub['distance'] = distances\n",
    "    return lib_data_sub.sort_values('distance', ascending = True)['Building'][:k].values"
   ]
  },
  {
   "cell_type": "code",
   "execution_count": 18,
   "metadata": {},
   "outputs": [],
   "source": [
    "from sklearn.metrics import pairwise_distances\n",
    "from sklearn.metrics.pairwise import cosine_similarity\n",
    "from scipy.spatial.distance import cosine\n",
    "\n",
    "def calc_similarity(df, features, libcode):\n",
    "    n = 4 # number of results to return\n",
    "    \n",
    "    # Drop duplicate building codes\n",
    "    df = df.drop_duplicates(subset=['Building'], keep='first')\n",
    "    # fill missing with 0 and normalize features\n",
    "    X = df[features].fillna(0)\n",
    "    X = X.values # convert to numpy array\n",
    "    X = X / X.max(axis=0) # Scale columnns between 0 and 1\n",
    "    \n",
    "    # Index of target library\n",
    "    lib = df[feats].loc[df['Building']==libcode]\n",
    "    target_idx = lib.index[0]\n",
    "    lib = X[target_idx] # (3,)\n",
    "    \n",
    "    # Names\n",
    "    names = df['Building'].values\n",
    "    names = names[:, np.newaxis] \n",
    "    \n",
    "    # Calculate Similarity\n",
    "    #X = np.delete(X, (target_idx), axis=0).shape\n",
    "    sim_matrix = cosine_similarity(X)\n",
    "    #print(sim_matrix.shape)\n",
    "    \n",
    "    # Create DataFrame from Similiaryt Matrix\n",
    "    #sim_matrix = np.append(sim_matrix, names,1) # Append names to array\n",
    "    sim_df = pd.DataFrame(sim_matrix)\n",
    "    names = np.squeeze(names, axis=(1,))\n",
    "    sim_df.columns = list(names)\n",
    "    sim_df['Building'] = names\n",
    "    # return sim_df # similarity Matrix with labels\n",
    "    \n",
    "    # Filter Similarity matrix to Library of Interest\n",
    "    target_col = sim_df[['Building', libcode]]\n",
    "    target_col = target_col.sort_values(by=[libcode], ascending=False)\n",
    "    target_col = target_col.iloc[1:n+1]\n",
    "    \n",
    "    result = list(target_col['Building'].values) # list of results\n",
    "    return result\n",
    "\n",
    "# Example of use\n",
    "feats = ['close','quiet_study','group_study']"
   ]
  },
  {
   "cell_type": "code",
   "execution_count": 19,
   "metadata": {},
   "outputs": [],
   "source": [
    "import datetime\n",
    "\n",
    "def get_best_time(df, library_codes, period, date):\n",
    "    # hard coded\n",
    "    week_num = int(date.isocalendar()[1])\n",
    "    day = date.strftime('%A')\n",
    "    #print(week_num)\n",
    "    #print(day)\n",
    "    period_mapping = {\n",
    "                     'morning': {'min': 8 ,'max': 12}, \n",
    "                      'afternoon':{'min': 12 ,'max': 16},\n",
    "                      'evening': {'min': 16 ,'max': 19}, \n",
    "                      'night':{'min': 19 ,'max': 23} # Change this to 24\n",
    "                     }\n",
    "    freq_data_sub = df[(df.week_num == week_num) & (df.year == date.year -1) & (df.weekday == day) & (df.building == library_codes) ].groupby(['hour','building']).sum().groupby(level = [0]).cumsum()\n",
    "    #print(freq_data_sub.head())\n",
    "    freq_data_sub = freq_data_sub.reset_index()\n",
    "    #print(freq_data_sub)\n",
    "    freq_data_sub = freq_data_sub.loc[(freq_data_sub['hour'] >= period_mapping[period]['min']) & (freq_data_sub['hour'] < period_mapping[period]['max'])]\n",
    "    freq_data_sub = freq_data_sub.sort_values('hourly_change', ascending = True)\n",
    "    \n",
    "    lib_best_times = {}\n",
    "    #print(np.unique(freq_data_sub['building'].values))\n",
    "    for lib in np.unique(freq_data_sub['building'].values):\n",
    "        lib_data_sub = freq_data_sub.loc[(freq_data_sub['building'] == lib),:]\n",
    "        lib_data_sub = lib_data_sub.sort_values('hourly_change', ascending = True)\n",
    "        #lib_best_times[lib] = {'best_times': lib_data_sub['hour'].values}\n",
    "        lib_best_times[lib] = lib_data_sub['hour'].values\n",
    "        print()\n",
    "        print('\\033[1m' +'The best visiting times for ' + lib + ' is:')\n",
    "        print('\\033[0m')\n",
    "        for i in lib_best_times[lib]: \n",
    "            print(str(i) + ':00 hrs to ' + str(i+1)+':00 hrs')\n",
    "            \n",
    "        print()    \n",
    "        print('\\033[1m' +'Other similar libraries') \n",
    "        print('\\033[0m')\n",
    "        for i in calc_similarity(lib_features, feats, library_codes):\n",
    "            if(i != library_codes):\n",
    "                print(i)\n",
    "        print()\n",
    "              \n",
    "    #best_times = freq_data_sub['hour'].values\n",
    "    # print(freq_data_sub)\n",
    "    #return lib_best_times"
   ]
  },
  {
   "cell_type": "code",
   "execution_count": 23,
   "metadata": {},
   "outputs": [
    {
     "data": {
      "application/vnd.jupyter.widget-view+json": {
       "model_id": "de40d12f32164e45b19b04f0a8570c05",
       "version_major": 2,
       "version_minor": 0
      },
      "text/plain": [
       "interactive(children=(Checkbox(value=False, description='Group Study'), Checkbox(value=False, description='Res…"
      ]
     },
     "metadata": {},
     "output_type": "display_data"
    },
    {
     "data": {
      "text/plain": [
       "<function __main__.lib_random(Group_Study, Reservable_Rooms, Quiet_Study, Lib_List, Date)>"
      ]
     },
     "execution_count": 23,
     "metadata": {},
     "output_type": "execute_result"
    }
   ],
   "source": [
    "interact(lib_random,Group_Study = group_study_widget , Reservable_Rooms = reservable_rooms_widget, Quiet_Study = quiet_study_widget, Lib_List = lib_list_widget, Date = date_widget)"
   ]
  },
  {
   "cell_type": "code",
   "execution_count": 24,
   "metadata": {},
   "outputs": [
    {
     "data": {
      "application/vnd.jupyter.widget-view+json": {
       "model_id": "ec74bfa8589548efa1800c616523952f",
       "version_major": 2,
       "version_minor": 0
      },
      "text/plain": [
       "interactive(children=(DatePicker(value=datetime.date(2018, 12, 13), description='Pick a Date'), Dropdown(descr…"
      ]
     },
     "metadata": {},
     "output_type": "display_data"
    },
    {
     "data": {
      "text/plain": [
       "<function __main__.get_date(date, lib_codes, period)>"
      ]
     },
     "execution_count": 24,
     "metadata": {},
     "output_type": "execute_result"
    }
   ],
   "source": [
    "date_widget = widgets.DatePicker(description='Pick a Date',value = date.today(),disabled=False)\n",
    "period_widget = widgets.Dropdown(options= ['morning','afternoon','evening','night'],description='Period:',disabled=False)\n",
    "lib_widget = widgets.Dropdown(options=lib_list,description='Library:',disabled=False)\n",
    "\n",
    "interact(get_date, date = date_widget, period = period_widget,lib_codes = lib_widget)"
   ]
  },
  {
   "cell_type": "code",
   "execution_count": 21,
   "metadata": {
    "scrolled": true
   },
   "outputs": [
    {
     "data": {
      "application/vnd.jupyter.widget-view+json": {
       "model_id": "fb84c62db631435ab89c469226bf0878",
       "version_major": 2,
       "version_minor": 0
      },
      "text/plain": [
       "interactive(children=(Checkbox(value=False, description='Group Study'), Checkbox(value=False, description='Res…"
      ]
     },
     "metadata": {},
     "output_type": "display_data"
    },
    {
     "data": {
      "text/plain": [
       "<function __main__.lib_random(Group_Study, Reservable_Rooms, Quiet_Study, Lib_List, Date)>"
      ]
     },
     "execution_count": 21,
     "metadata": {},
     "output_type": "execute_result"
    }
   ],
   "source": [
    "interact(lib_random,Group_Study = group_study_widget , Reservable_Rooms = reservable_rooms_widget, Quiet_Study = quiet_study_widget, Lib_List = lib_list_widget, Date = date_widget)"
   ]
  },
  {
   "cell_type": "code",
   "execution_count": 26,
   "metadata": {},
   "outputs": [
    {
     "data": {
      "image/png": "[encoded data removed]",
      "text/plain": [
       "<Figure size 720x720 with 1 Axes>"
      ]
     },
     "metadata": {},
     "output_type": "display_data"
    }
   ],
   "source": [
    "# Time series of week and traffic\n",
    "ts = df.loc[((df.year == 2017) | (df.year == 2018)) & (df.building == 'MOFF'),:].groupby(['week_num']).sum()\n",
    "ts = ts.reset_index()\n",
    "# Histogram plot\n",
    "fig, ax = plt.subplots(figsize = (10,10))\n",
    "ax.scatter(ts['week_num'].values, ts['entries'].values)\n",
    "ax.plot(ts['week_num'].values, ts['entries'].values)\n",
    "ax.set_title('Plot week vs total entries in Moffit', fontweight=\"bold\", size=18, pad = 25)\n",
    "ax.set_xlabel('Week #', size = 18)\n",
    "ax.set_ylabel('Total visits', size = 18)\n",
    "plt.show()"
   ]
  },
  {
   "cell_type": "code",
   "execution_count": null,
   "metadata": {},
   "outputs": [],
   "source": []
  }
 ],
 "metadata": {
  "kernelspec": {
   "display_name": "Python 3",
   "language": "python",
   "name": "python3"
  },
  "language_info": {
   "codemirror_mode": {
    "name": "ipython",
    "version": 3
   },
   "file_extension": ".py",
   "mimetype": "text/x-python",
   "name": "python",
   "nbconvert_exporter": "python",
   "pygments_lexer": "ipython3",
   "version": "3.7.1"
  }
 },
 "nbformat": 4,
 "nbformat_minor": 2
}
